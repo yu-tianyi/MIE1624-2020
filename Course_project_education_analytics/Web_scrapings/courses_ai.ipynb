{
 "cells": [
  {
   "cell_type": "code",
   "execution_count": 1,
   "metadata": {},
   "outputs": [],
   "source": [
    "import pandas as pd\n",
    "import requests\n",
    "from bs4 import BeautifulSoup\n",
    "from selenium import webdriver\n",
    "from webdriver_manager.chrome import ChromeDriverManager\n",
    "import time"
   ]
  },
  {
   "cell_type": "code",
   "execution_count": 2,
   "metadata": {},
   "outputs": [
    {
     "name": "stdout",
     "output_type": "stream",
     "text": [
      "\n",
      "Looking for [chromedriver 80.0.3987.106 mac64] driver in cache \n",
      "File found in cache by path [/Users/barry/.wdm/drivers/chromedriver/80.0.3987.106/mac64/chromedriver]\n"
     ]
    }
   ],
   "source": [
    "driver = webdriver.Chrome(ChromeDriverManager().install())"
   ]
  },
  {
   "cell_type": "code",
   "execution_count": 3,
   "metadata": {},
   "outputs": [],
   "source": [
    "# 20 job postings per page\n",
    "def get_urls(url):\n",
    "    \n",
    "    nums = 25\n",
    "    # get html back\n",
    "    html = requests.get(url)\n",
    "    html = html.text\n",
    "    soup = BeautifulSoup(html, 'lxml')\n",
    "\n",
    "    # add the common part between all search pages\n",
    "    base_url = 'https://www.coursera.org/search?query=artificial%20intelligence&indices%5Bprod_all_products_term_optimization%5D%5Bpage%5D=2&indices%5Bprod_all_products_term_optimization%5D%5Bconfigure%5D%5BclickAnalytics%5D=true&indices%5Bprod_all_products_term_optimization%5D%5Bconfigure%5D%5BruleContexts%5D%5B0%5D=en&indices%5Bprod_all_products_term_optimization%5D%5Bconfigure%5D%5BhitsPerPage%5D=10&configure%5BclickAnalytics%5D=true'\n",
    "    urls = []\n",
    "    urls.append(base_url)\n",
    "    for i in range(2, nums):\n",
    "        a = \"https://www.coursera.org/search?query=artificial%20intelligence&indices%5Bprod_all_products_term_optimization%5D%5Bpage%5D=\"+str(i)+'&indices%5Bprod_all_products_term_optimization%5D%5Bconfigure%5D%5BclickAnalytics%5D=true&indices%5Bprod_all_products_term_optimization%5D%5Bconfigure%5D%5BruleContexts%5D%5B0%5D=en&indices%5Bprod_all_products_term_optimization%5D%5Bconfigure%5D%5BhitsPerPage%5D=10&configure%5BclickAnalytics%5D=true'\n",
    "        urls.append(a)\n",
    "        \n",
    "    return urls"
   ]
  },
  {
   "cell_type": "code",
   "execution_count": 4,
   "metadata": {},
   "outputs": [],
   "source": [
    "urls = get_urls('https://www.coursera.org/search?query=artificial%20intelligence&')"
   ]
  },
  {
   "cell_type": "code",
   "execution_count": 5,
   "metadata": {},
   "outputs": [],
   "source": [
    "course_links, course_desc = [],[]\n",
    "# loop over all page-urls\n",
    "for page_url in urls:\n",
    "\n",
    "    # get the HTML of the search results page\n",
    "    page = requests.get(page_url)\n",
    "    content = page.text\n",
    "    soup = BeautifulSoup(content, 'lxml')\n",
    "\n",
    "    results = soup.find_all('li',{'class':'ais-InfiniteHits-item'})\n",
    "\n",
    "    for course in results:\n",
    "\n",
    "        course_link = 'https://www.coursera.org' + course.find('a')['href']\n",
    "        \n",
    "        #description\n",
    "        course = requests.get(course_link)\n",
    "        course_soup = BeautifulSoup(course.text, 'lxml')\n",
    "        try:\n",
    "            desc = course_soup.find('div',{'class':'description'}).text\n",
    "        except:\n",
    "            desc = 'No Descriptions'\n",
    "        course_desc.append(desc)\n",
    "        \n",
    "        course_links.append(course_link)"
   ]
  },
  {
   "cell_type": "code",
   "execution_count": 6,
   "metadata": {},
   "outputs": [],
   "source": [
    "#chapter links\n",
    "course_len,course_names,chapter_names,chapter_links = [],[],[],[]\n",
    "for link in course_links:\n",
    "    \n",
    "    page = requests.get(link)\n",
    "    content = page.text\n",
    "    soup = BeautifulSoup(content, 'lxml')\n",
    "    \n",
    "    course_names.append(soup.find('h1').text)\n",
    "    #click buttons and generate full_link to further operations\n",
    "    driver.get(link)\n",
    "    time.sleep(5)\n",
    "    try:\n",
    "        button = driver.find_element_by_xpath('//*[@id=\"main\"]/div/div[6]/div/div/div[2]/ul/li/div[2]/button/span')\n",
    "        button.click()\n",
    "        all_link = driver.page_source\n",
    "    except:\n",
    "        all_link = driver.page_source\n",
    "    \n",
    "    course_soup = BeautifulSoup(all_link, 'lxml')\n",
    "    \n",
    "    #course chapters names\n",
    "    chapters = course_soup.find_all('h3',{'class':\"headline-3-text bold m-t-1 m-b-2\"})\n",
    "    for i in chapters:\n",
    "        chapter_names.append(i.text)\n",
    "    \n",
    "    #chapter links\n",
    "    a = course_soup.find_all('div',{'class':'Row_nvwp6p CourseItem'})\n",
    "    course_len.append(len(a))\n",
    "    for b in a:\n",
    "        chapter_links.append('https://www.coursera.org' + b.find('a',{'data-e2e':\"course-link\"})['href'])"
   ]
  },
  {
   "cell_type": "code",
   "execution_count": 7,
   "metadata": {},
   "outputs": [
    {
     "data": {
      "text/plain": [
       "221"
      ]
     },
     "execution_count": 7,
     "metadata": {},
     "output_type": "execute_result"
    }
   ],
   "source": [
    "len(chapter_names)"
   ]
  },
  {
   "cell_type": "code",
   "execution_count": 8,
   "metadata": {},
   "outputs": [
    {
     "data": {
      "text/plain": [
       "221"
      ]
     },
     "execution_count": 8,
     "metadata": {},
     "output_type": "execute_result"
    }
   ],
   "source": [
    "len(chapter_links)"
   ]
  },
  {
   "cell_type": "code",
   "execution_count": 9,
   "metadata": {},
   "outputs": [],
   "source": [
    "#section names and description\n",
    "section_len = []\n",
    "\n",
    "for link in chapter_links:\n",
    "    driver.get(link)\n",
    "    time.sleep(5)\n",
    "    try:\n",
    "        buttons = driver.find_element_by_xpath('//*[@id=\"expand_module_description_button\"]')\n",
    "        buttons.click()\n",
    "        full_link = driver.page_source\n",
    "    except:\n",
    "        full_link = driver.page_source\n",
    "        \n",
    "    chapter_soup = BeautifulSoup(full_link, 'lxml')\n",
    "    \n",
    "    #names and len\n",
    "    a = chapter_soup.find_all('h2',{'class':'headline-2-text bold m-b-2'})\n",
    "    section_len.append(len(a))"
   ]
  },
  {
   "cell_type": "code",
   "execution_count": 10,
   "metadata": {},
   "outputs": [],
   "source": [
    "section_names,section_desc = [],[]\n",
    "for link in chapter_links:\n",
    "    driver.get(link)\n",
    "    time.sleep(5)\n",
    "    try:\n",
    "        buttons = driver.find_element_by_xpath('//*[@id=\"expand_module_description_button\"]')\n",
    "        buttons.click()\n",
    "        full_link = driver.page_source\n",
    "    except:\n",
    "        full_link = driver.page_source\n",
    "        \n",
    "    chapter_soup = BeautifulSoup(full_link, 'lxml')\n",
    "    \n",
    "    a = chapter_soup.find_all('h2',{'class':'headline-2-text bold m-b-2'})\n",
    "    \n",
    "    #names\n",
    "    for b in a:\n",
    "        section_names.append(b.text)\n",
    "    \n",
    "    #desc\n",
    "    c = chapter_soup.find_all('div',{'class':'content-inner'})[-len(a):]\n",
    "    for d in c:\n",
    "        section_desc.append(d.text)"
   ]
  },
  {
   "cell_type": "code",
   "execution_count": 14,
   "metadata": {},
   "outputs": [
    {
     "data": {
      "text/plain": [
       "1072"
      ]
     },
     "execution_count": 14,
     "metadata": {},
     "output_type": "execute_result"
    }
   ],
   "source": [
    "len(section_names)"
   ]
  },
  {
   "cell_type": "code",
   "execution_count": 11,
   "metadata": {},
   "outputs": [
    {
     "data": {
      "text/plain": [
       "1074"
      ]
     },
     "execution_count": 11,
     "metadata": {},
     "output_type": "execute_result"
    }
   ],
   "source": [
    "len(section_desc)"
   ]
  },
  {
   "cell_type": "code",
   "execution_count": 15,
   "metadata": {},
   "outputs": [
    {
     "data": {
      "text/html": [
       "<div>\n",
       "<style scoped>\n",
       "    .dataframe tbody tr th:only-of-type {\n",
       "        vertical-align: middle;\n",
       "    }\n",
       "\n",
       "    .dataframe tbody tr th {\n",
       "        vertical-align: top;\n",
       "    }\n",
       "\n",
       "    .dataframe thead th {\n",
       "        text-align: right;\n",
       "    }\n",
       "</style>\n",
       "<table border=\"1\" class=\"dataframe\">\n",
       "  <thead>\n",
       "    <tr style=\"text-align: right;\">\n",
       "      <th></th>\n",
       "      <th>Section Names</th>\n",
       "      <th>Section Descriptions</th>\n",
       "    </tr>\n",
       "  </thead>\n",
       "  <tbody>\n",
       "    <tr>\n",
       "      <td>0</td>\n",
       "      <td>Defining Data Science and What Data Scientists Do</td>\n",
       "      <td>In this module, you will hear from Norman Whit...</td>\n",
       "    </tr>\n",
       "    <tr>\n",
       "      <td>1</td>\n",
       "      <td>Data Science Topics</td>\n",
       "      <td>In this module, you will learn about the appro...</td>\n",
       "    </tr>\n",
       "    <tr>\n",
       "      <td>2</td>\n",
       "      <td>Data Science in Business</td>\n",
       "      <td>IBM offers a wide range of technology and cons...</td>\n",
       "    </tr>\n",
       "    <tr>\n",
       "      <td>3</td>\n",
       "      <td>Introducing Skills Network Labs</td>\n",
       "      <td>This week, you will learn about a popular data...</td>\n",
       "    </tr>\n",
       "    <tr>\n",
       "      <td>4</td>\n",
       "      <td>Jupyter Notebooks</td>\n",
       "      <td>This week, you will learn about Apache Zeppeli...</td>\n",
       "    </tr>\n",
       "    <tr>\n",
       "      <td>...</td>\n",
       "      <td>...</td>\n",
       "      <td>...</td>\n",
       "    </tr>\n",
       "    <tr>\n",
       "      <td>1067</td>\n",
       "      <td>Course Orientation</td>\n",
       "      <td>You will find out where to go next after compl...</td>\n",
       "    </tr>\n",
       "    <tr>\n",
       "      <td>1068</td>\n",
       "      <td>Module 1: Spark, Hortonworks, HDFS, CAP</td>\n",
       "      <td>The University of Illinois at Urbana-Champaign...</td>\n",
       "    </tr>\n",
       "    <tr>\n",
       "      <td>1069</td>\n",
       "      <td>Module 2: Large Scale Data Storage</td>\n",
       "      <td>In Module 1, we introduce you to the world of ...</td>\n",
       "    </tr>\n",
       "    <tr>\n",
       "      <td>1070</td>\n",
       "      <td>Module 3: Streaming Systems</td>\n",
       "      <td>In this module, you will learn about large sca...</td>\n",
       "    </tr>\n",
       "    <tr>\n",
       "      <td>1071</td>\n",
       "      <td>Module 4: Graph Processing and Machine Learning</td>\n",
       "      <td>This module introduces you to real-time stream...</td>\n",
       "    </tr>\n",
       "  </tbody>\n",
       "</table>\n",
       "<p>1072 rows × 2 columns</p>\n",
       "</div>"
      ],
      "text/plain": [
       "                                          Section Names  \\\n",
       "0     Defining Data Science and What Data Scientists Do   \n",
       "1                                   Data Science Topics   \n",
       "2                              Data Science in Business   \n",
       "3                       Introducing Skills Network Labs   \n",
       "4                                     Jupyter Notebooks   \n",
       "...                                                 ...   \n",
       "1067                                 Course Orientation   \n",
       "1068            Module 1: Spark, Hortonworks, HDFS, CAP   \n",
       "1069                 Module 2: Large Scale Data Storage   \n",
       "1070                        Module 3: Streaming Systems   \n",
       "1071    Module 4: Graph Processing and Machine Learning   \n",
       "\n",
       "                                   Section Descriptions  \n",
       "0     In this module, you will hear from Norman Whit...  \n",
       "1     In this module, you will learn about the appro...  \n",
       "2     IBM offers a wide range of technology and cons...  \n",
       "3     This week, you will learn about a popular data...  \n",
       "4     This week, you will learn about Apache Zeppeli...  \n",
       "...                                                 ...  \n",
       "1067  You will find out where to go next after compl...  \n",
       "1068  The University of Illinois at Urbana-Champaign...  \n",
       "1069  In Module 1, we introduce you to the world of ...  \n",
       "1070  In this module, you will learn about large sca...  \n",
       "1071  This module introduces you to real-time stream...  \n",
       "\n",
       "[1072 rows x 2 columns]"
      ]
     },
     "execution_count": 15,
     "metadata": {},
     "output_type": "execute_result"
    }
   ],
   "source": [
    "df_section = pd.DataFrame({'Section Names':section_names,'Section Descriptions':section_desc[:-2]})\n",
    "df_section"
   ]
  },
  {
   "cell_type": "code",
   "execution_count": 16,
   "metadata": {},
   "outputs": [],
   "source": [
    "df_section.insert(1,'Section Length','')"
   ]
  },
  {
   "cell_type": "code",
   "execution_count": 17,
   "metadata": {},
   "outputs": [],
   "source": [
    "df_section.insert(2,'Chapter Links','')"
   ]
  },
  {
   "cell_type": "code",
   "execution_count": 18,
   "metadata": {},
   "outputs": [],
   "source": [
    "a = 0\n",
    "for i in range(len(section_len)):\n",
    "    num = section_len[i]\n",
    "    link = chapter_links[i]\n",
    "    df_section.iloc[a:a+num,1] = num\n",
    "    df_section.iloc[a:a+num,2] = link\n",
    "    a += num"
   ]
  },
  {
   "cell_type": "code",
   "execution_count": 19,
   "metadata": {},
   "outputs": [
    {
     "data": {
      "text/html": [
       "<div>\n",
       "<style scoped>\n",
       "    .dataframe tbody tr th:only-of-type {\n",
       "        vertical-align: middle;\n",
       "    }\n",
       "\n",
       "    .dataframe tbody tr th {\n",
       "        vertical-align: top;\n",
       "    }\n",
       "\n",
       "    .dataframe thead th {\n",
       "        text-align: right;\n",
       "    }\n",
       "</style>\n",
       "<table border=\"1\" class=\"dataframe\">\n",
       "  <thead>\n",
       "    <tr style=\"text-align: right;\">\n",
       "      <th></th>\n",
       "      <th>Section Names</th>\n",
       "      <th>Section Length</th>\n",
       "      <th>Chapter Links</th>\n",
       "      <th>Section Descriptions</th>\n",
       "    </tr>\n",
       "  </thead>\n",
       "  <tbody>\n",
       "    <tr>\n",
       "      <td>0</td>\n",
       "      <td>Defining Data Science and What Data Scientists Do</td>\n",
       "      <td>3</td>\n",
       "      <td>https://www.coursera.org/learn/what-is-datasci...</td>\n",
       "      <td>In this module, you will hear from Norman Whit...</td>\n",
       "    </tr>\n",
       "    <tr>\n",
       "      <td>1</td>\n",
       "      <td>Data Science Topics</td>\n",
       "      <td>3</td>\n",
       "      <td>https://www.coursera.org/learn/what-is-datasci...</td>\n",
       "      <td>In this module, you will learn about the appro...</td>\n",
       "    </tr>\n",
       "    <tr>\n",
       "      <td>2</td>\n",
       "      <td>Data Science in Business</td>\n",
       "      <td>3</td>\n",
       "      <td>https://www.coursera.org/learn/what-is-datasci...</td>\n",
       "      <td>IBM offers a wide range of technology and cons...</td>\n",
       "    </tr>\n",
       "    <tr>\n",
       "      <td>3</td>\n",
       "      <td>Introducing Skills Network Labs</td>\n",
       "      <td>6</td>\n",
       "      <td>https://www.coursera.org/learn/open-source-too...</td>\n",
       "      <td>This week, you will learn about a popular data...</td>\n",
       "    </tr>\n",
       "    <tr>\n",
       "      <td>4</td>\n",
       "      <td>Jupyter Notebooks</td>\n",
       "      <td>6</td>\n",
       "      <td>https://www.coursera.org/learn/open-source-too...</td>\n",
       "      <td>This week, you will learn about Apache Zeppeli...</td>\n",
       "    </tr>\n",
       "    <tr>\n",
       "      <td>...</td>\n",
       "      <td>...</td>\n",
       "      <td>...</td>\n",
       "      <td>...</td>\n",
       "      <td>...</td>\n",
       "    </tr>\n",
       "    <tr>\n",
       "      <td>1067</td>\n",
       "      <td>Course Orientation</td>\n",
       "      <td>5</td>\n",
       "      <td>https://www.coursera.org/learn/cloud-applicati...</td>\n",
       "      <td>You will find out where to go next after compl...</td>\n",
       "    </tr>\n",
       "    <tr>\n",
       "      <td>1068</td>\n",
       "      <td>Module 1: Spark, Hortonworks, HDFS, CAP</td>\n",
       "      <td>5</td>\n",
       "      <td>https://www.coursera.org/learn/cloud-applicati...</td>\n",
       "      <td>The University of Illinois at Urbana-Champaign...</td>\n",
       "    </tr>\n",
       "    <tr>\n",
       "      <td>1069</td>\n",
       "      <td>Module 2: Large Scale Data Storage</td>\n",
       "      <td>5</td>\n",
       "      <td>https://www.coursera.org/learn/cloud-applicati...</td>\n",
       "      <td>In Module 1, we introduce you to the world of ...</td>\n",
       "    </tr>\n",
       "    <tr>\n",
       "      <td>1070</td>\n",
       "      <td>Module 3: Streaming Systems</td>\n",
       "      <td>5</td>\n",
       "      <td>https://www.coursera.org/learn/cloud-applicati...</td>\n",
       "      <td>In this module, you will learn about large sca...</td>\n",
       "    </tr>\n",
       "    <tr>\n",
       "      <td>1071</td>\n",
       "      <td>Module 4: Graph Processing and Machine Learning</td>\n",
       "      <td>5</td>\n",
       "      <td>https://www.coursera.org/learn/cloud-applicati...</td>\n",
       "      <td>This module introduces you to real-time stream...</td>\n",
       "    </tr>\n",
       "  </tbody>\n",
       "</table>\n",
       "<p>1072 rows × 4 columns</p>\n",
       "</div>"
      ],
      "text/plain": [
       "                                          Section Names Section Length  \\\n",
       "0     Defining Data Science and What Data Scientists Do              3   \n",
       "1                                   Data Science Topics              3   \n",
       "2                              Data Science in Business              3   \n",
       "3                       Introducing Skills Network Labs              6   \n",
       "4                                     Jupyter Notebooks              6   \n",
       "...                                                 ...            ...   \n",
       "1067                                 Course Orientation              5   \n",
       "1068            Module 1: Spark, Hortonworks, HDFS, CAP              5   \n",
       "1069                 Module 2: Large Scale Data Storage              5   \n",
       "1070                        Module 3: Streaming Systems              5   \n",
       "1071    Module 4: Graph Processing and Machine Learning              5   \n",
       "\n",
       "                                          Chapter Links  \\\n",
       "0     https://www.coursera.org/learn/what-is-datasci...   \n",
       "1     https://www.coursera.org/learn/what-is-datasci...   \n",
       "2     https://www.coursera.org/learn/what-is-datasci...   \n",
       "3     https://www.coursera.org/learn/open-source-too...   \n",
       "4     https://www.coursera.org/learn/open-source-too...   \n",
       "...                                                 ...   \n",
       "1067  https://www.coursera.org/learn/cloud-applicati...   \n",
       "1068  https://www.coursera.org/learn/cloud-applicati...   \n",
       "1069  https://www.coursera.org/learn/cloud-applicati...   \n",
       "1070  https://www.coursera.org/learn/cloud-applicati...   \n",
       "1071  https://www.coursera.org/learn/cloud-applicati...   \n",
       "\n",
       "                                   Section Descriptions  \n",
       "0     In this module, you will hear from Norman Whit...  \n",
       "1     In this module, you will learn about the appro...  \n",
       "2     IBM offers a wide range of technology and cons...  \n",
       "3     This week, you will learn about a popular data...  \n",
       "4     This week, you will learn about Apache Zeppeli...  \n",
       "...                                                 ...  \n",
       "1067  You will find out where to go next after compl...  \n",
       "1068  The University of Illinois at Urbana-Champaign...  \n",
       "1069  In Module 1, we introduce you to the world of ...  \n",
       "1070  In this module, you will learn about large sca...  \n",
       "1071  This module introduces you to real-time stream...  \n",
       "\n",
       "[1072 rows x 4 columns]"
      ]
     },
     "execution_count": 19,
     "metadata": {},
     "output_type": "execute_result"
    }
   ],
   "source": [
    "df_section"
   ]
  },
  {
   "cell_type": "code",
   "execution_count": 20,
   "metadata": {},
   "outputs": [],
   "source": [
    "df_course = pd.DataFrame({'Course Names':course_names,'Course Length':course_len,'Course Descriptions':course_desc})"
   ]
  },
  {
   "cell_type": "code",
   "execution_count": 21,
   "metadata": {},
   "outputs": [],
   "source": [
    "df_chapter = pd.DataFrame({'Chapter Names':chapter_names,'Chapter Links':chapter_links})"
   ]
  },
  {
   "cell_type": "code",
   "execution_count": 22,
   "metadata": {},
   "outputs": [],
   "source": [
    "df_chapter.insert(0,'Course Names','')\n",
    "df_chapter.insert(1,'Course Length','')\n",
    "df_chapter.insert(2,'Course Descriptions','')"
   ]
  },
  {
   "cell_type": "code",
   "execution_count": 23,
   "metadata": {},
   "outputs": [],
   "source": [
    "a = 0\n",
    "for i in range(len(df_course)):\n",
    "    num = df_course.iloc[i,1]\n",
    "    df_chapter.iloc[a:a+num,0] = df_course.iloc[i,0]\n",
    "    df_chapter.iloc[a:a+num,1] = df_course.iloc[i,1]\n",
    "    df_chapter.iloc[a:a+num,2] = df_course.iloc[i,2]\n",
    "    a += num"
   ]
  },
  {
   "cell_type": "code",
   "execution_count": 24,
   "metadata": {},
   "outputs": [
    {
     "data": {
      "text/html": [
       "<div>\n",
       "<style scoped>\n",
       "    .dataframe tbody tr th:only-of-type {\n",
       "        vertical-align: middle;\n",
       "    }\n",
       "\n",
       "    .dataframe tbody tr th {\n",
       "        vertical-align: top;\n",
       "    }\n",
       "\n",
       "    .dataframe thead th {\n",
       "        text-align: right;\n",
       "    }\n",
       "</style>\n",
       "<table border=\"1\" class=\"dataframe\">\n",
       "  <thead>\n",
       "    <tr style=\"text-align: right;\">\n",
       "      <th></th>\n",
       "      <th>Course Names</th>\n",
       "      <th>Course Length</th>\n",
       "      <th>Course Descriptions</th>\n",
       "      <th>Chapter Names</th>\n",
       "      <th>Chapter Links</th>\n",
       "    </tr>\n",
       "  </thead>\n",
       "  <tbody>\n",
       "    <tr>\n",
       "      <td>0</td>\n",
       "      <td>IBM Data Science Professional Certificate</td>\n",
       "      <td>9</td>\n",
       "      <td>Data Science has been ranked as one of the hot...</td>\n",
       "      <td>What is Data Science?</td>\n",
       "      <td>https://www.coursera.org/learn/what-is-datasci...</td>\n",
       "    </tr>\n",
       "    <tr>\n",
       "      <td>1</td>\n",
       "      <td>IBM Data Science Professional Certificate</td>\n",
       "      <td>9</td>\n",
       "      <td>Data Science has been ranked as one of the hot...</td>\n",
       "      <td>Open Source tools for Data Science</td>\n",
       "      <td>https://www.coursera.org/learn/open-source-too...</td>\n",
       "    </tr>\n",
       "    <tr>\n",
       "      <td>2</td>\n",
       "      <td>IBM Data Science Professional Certificate</td>\n",
       "      <td>9</td>\n",
       "      <td>Data Science has been ranked as one of the hot...</td>\n",
       "      <td>Data Science Methodology</td>\n",
       "      <td>https://www.coursera.org/learn/data-science-me...</td>\n",
       "    </tr>\n",
       "    <tr>\n",
       "      <td>3</td>\n",
       "      <td>IBM Data Science Professional Certificate</td>\n",
       "      <td>9</td>\n",
       "      <td>Data Science has been ranked as one of the hot...</td>\n",
       "      <td>Python for Data Science and AI</td>\n",
       "      <td>https://www.coursera.org/learn/python-for-appl...</td>\n",
       "    </tr>\n",
       "    <tr>\n",
       "      <td>4</td>\n",
       "      <td>IBM Data Science Professional Certificate</td>\n",
       "      <td>9</td>\n",
       "      <td>Data Science has been ranked as one of the hot...</td>\n",
       "      <td>Databases and SQL for Data Science</td>\n",
       "      <td>https://www.coursera.org/learn/sql-data-science</td>\n",
       "    </tr>\n",
       "    <tr>\n",
       "      <td>...</td>\n",
       "      <td>...</td>\n",
       "      <td>...</td>\n",
       "      <td>...</td>\n",
       "      <td>...</td>\n",
       "      <td>...</td>\n",
       "    </tr>\n",
       "    <tr>\n",
       "      <td>216</td>\n",
       "      <td>Excel to MySQL: Analytic Techniques for Busine...</td>\n",
       "      <td>4</td>\n",
       "      <td>Formulate data questions, explore and visualiz...</td>\n",
       "      <td>Managing Big Data with MySQL</td>\n",
       "      <td>https://www.coursera.org/learn/analytics-mysql...</td>\n",
       "    </tr>\n",
       "    <tr>\n",
       "      <td>217</td>\n",
       "      <td>Cloud Computing Specialization</td>\n",
       "      <td>4</td>\n",
       "      <td>The Cloud Computing Specialization takes you o...</td>\n",
       "      <td>Cloud Computing Concepts, Part 1</td>\n",
       "      <td>https://www.coursera.org/learn/cloud-computing...</td>\n",
       "    </tr>\n",
       "    <tr>\n",
       "      <td>218</td>\n",
       "      <td>Cloud Computing Specialization</td>\n",
       "      <td>4</td>\n",
       "      <td>The Cloud Computing Specialization takes you o...</td>\n",
       "      <td>Cloud Computing Concepts: Part 2</td>\n",
       "      <td>https://www.coursera.org/learn/cloud-computing...</td>\n",
       "    </tr>\n",
       "    <tr>\n",
       "      <td>219</td>\n",
       "      <td>Cloud Computing Specialization</td>\n",
       "      <td>4</td>\n",
       "      <td>The Cloud Computing Specialization takes you o...</td>\n",
       "      <td>Cloud Computing Applications, Part 1: Cloud Sy...</td>\n",
       "      <td>https://www.coursera.org/learn/cloud-applicati...</td>\n",
       "    </tr>\n",
       "    <tr>\n",
       "      <td>220</td>\n",
       "      <td>Cloud Computing Specialization</td>\n",
       "      <td>4</td>\n",
       "      <td>The Cloud Computing Specialization takes you o...</td>\n",
       "      <td>Cloud Computing Applications, Part 2: Big Data...</td>\n",
       "      <td>https://www.coursera.org/learn/cloud-applicati...</td>\n",
       "    </tr>\n",
       "  </tbody>\n",
       "</table>\n",
       "<p>221 rows × 5 columns</p>\n",
       "</div>"
      ],
      "text/plain": [
       "                                          Course Names Course Length  \\\n",
       "0            IBM Data Science Professional Certificate             9   \n",
       "1            IBM Data Science Professional Certificate             9   \n",
       "2            IBM Data Science Professional Certificate             9   \n",
       "3            IBM Data Science Professional Certificate             9   \n",
       "4            IBM Data Science Professional Certificate             9   \n",
       "..                                                 ...           ...   \n",
       "216  Excel to MySQL: Analytic Techniques for Busine...             4   \n",
       "217                     Cloud Computing Specialization             4   \n",
       "218                     Cloud Computing Specialization             4   \n",
       "219                     Cloud Computing Specialization             4   \n",
       "220                     Cloud Computing Specialization             4   \n",
       "\n",
       "                                   Course Descriptions  \\\n",
       "0    Data Science has been ranked as one of the hot...   \n",
       "1    Data Science has been ranked as one of the hot...   \n",
       "2    Data Science has been ranked as one of the hot...   \n",
       "3    Data Science has been ranked as one of the hot...   \n",
       "4    Data Science has been ranked as one of the hot...   \n",
       "..                                                 ...   \n",
       "216  Formulate data questions, explore and visualiz...   \n",
       "217  The Cloud Computing Specialization takes you o...   \n",
       "218  The Cloud Computing Specialization takes you o...   \n",
       "219  The Cloud Computing Specialization takes you o...   \n",
       "220  The Cloud Computing Specialization takes you o...   \n",
       "\n",
       "                                         Chapter Names  \\\n",
       "0                               What is Data Science?    \n",
       "1                   Open Source tools for Data Science   \n",
       "2                             Data Science Methodology   \n",
       "3                       Python for Data Science and AI   \n",
       "4                   Databases and SQL for Data Science   \n",
       "..                                                 ...   \n",
       "216                       Managing Big Data with MySQL   \n",
       "217                   Cloud Computing Concepts, Part 1   \n",
       "218                   Cloud Computing Concepts: Part 2   \n",
       "219  Cloud Computing Applications, Part 1: Cloud Sy...   \n",
       "220  Cloud Computing Applications, Part 2: Big Data...   \n",
       "\n",
       "                                         Chapter Links  \n",
       "0    https://www.coursera.org/learn/what-is-datasci...  \n",
       "1    https://www.coursera.org/learn/open-source-too...  \n",
       "2    https://www.coursera.org/learn/data-science-me...  \n",
       "3    https://www.coursera.org/learn/python-for-appl...  \n",
       "4      https://www.coursera.org/learn/sql-data-science  \n",
       "..                                                 ...  \n",
       "216  https://www.coursera.org/learn/analytics-mysql...  \n",
       "217  https://www.coursera.org/learn/cloud-computing...  \n",
       "218  https://www.coursera.org/learn/cloud-computing...  \n",
       "219  https://www.coursera.org/learn/cloud-applicati...  \n",
       "220  https://www.coursera.org/learn/cloud-applicati...  \n",
       "\n",
       "[221 rows x 5 columns]"
      ]
     },
     "execution_count": 24,
     "metadata": {},
     "output_type": "execute_result"
    }
   ],
   "source": [
    "df_chapter"
   ]
  },
  {
   "cell_type": "code",
   "execution_count": 29,
   "metadata": {},
   "outputs": [],
   "source": [
    "df_section.to_csv('section_topics_ai.csv')"
   ]
  },
  {
   "cell_type": "code",
   "execution_count": 30,
   "metadata": {},
   "outputs": [],
   "source": [
    "df_chapter.to_csv('chapter_topics_ai.csv')"
   ]
  }
 ],
 "metadata": {
  "kernelspec": {
   "display_name": "Python 3",
   "language": "python",
   "name": "python3"
  },
  "language_info": {
   "codemirror_mode": {
    "name": "ipython",
    "version": 3
   },
   "file_extension": ".py",
   "mimetype": "text/x-python",
   "name": "python",
   "nbconvert_exporter": "python",
   "pygments_lexer": "ipython3",
   "version": "3.7.4"
  }
 },
 "nbformat": 4,
 "nbformat_minor": 2
}
